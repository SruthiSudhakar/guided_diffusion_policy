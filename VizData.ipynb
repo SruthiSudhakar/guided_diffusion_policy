{
 "cells": [
  {
   "cell_type": "code",
   "execution_count": 133,
   "id": "52d6b63d-a27a-495a-802d-2b79ac7d560e",
   "metadata": {},
   "outputs": [],
   "source": [
    "import os\n",
    "import json\n",
    "import h5py\n",
    "import numpy as np\n",
    "import matplotlib.pyplot as plt\n",
    "from IPython.display import Video\n",
    "import imageio\n",
    "from statistics import mean\n",
    "import robomimic.utils.file_utils as FileUtils\n",
    "from PIL import Image, ImageDraw, ImageFont\n",
    "import zarr\n",
    "from diffusion_policy.common.replay_buffer import ReplayBuffer\n",
    "from filelock import FileLock\n",
    "from diffusion_policy.codecs.imagecodecs_numcodecs import register_codecs, Jpeg2k\n",
    "import pdb\n",
    "from tqdm import tqdm"
   ]
  },
  {
   "cell_type": "code",
   "execution_count": 144,
   "id": "75578cc4-0d29-44e9-a817-50857c87e123",
   "metadata": {},
   "outputs": [
    {
     "name": "stdout",
     "output_type": "stream",
     "text": [
      "<HDF5 group \"/data\" (1008 members)>\n"
     ]
    }
   ],
   "source": [
    "data = h5py.File('/proj/vondrick3/sruthi/robots/diffusion_policy/data/curateddata/hammer2/data_all.hdf5')\n",
    "print(data['data'])"
   ]
  },
  {
   "cell_type": "code",
   "execution_count": 129,
   "id": "208a987e-1e95-49ad-a477-c1ed4ce5ee8c",
   "metadata": {},
   "outputs": [],
   "source": [
    "pickandplace = h5py.File('/proj/vondrick3/sruthi/robots/mimicgen_environments/datasets/large_interpolation/pick_place_d0.hdf5')\n",
    "redcube = h5py.File('/proj/vondrick3/sruthi/robots/diffusion_policy/data/robomimic/datasets/lift/ph/robomimic/datasets/lift/ph/image_abs.hdf5', 'r')"
   ]
  },
  {
   "cell_type": "code",
   "execution_count": 132,
   "id": "623fd57a-677e-4627-961c-3dd46b92d71e",
   "metadata": {},
   "outputs": [
    {
     "data": {
      "text/plain": [
       "(59,)"
      ]
     },
     "execution_count": 132,
     "metadata": {},
     "output_type": "execute_result"
    }
   ],
   "source": [
    "redcube['data']['demo_0']['rewards'].shape"
   ]
  },
  {
   "cell_type": "code",
   "execution_count": 99,
   "id": "678b5396-ae44-48b9-a8cc-28da77243bc5",
   "metadata": {},
   "outputs": [
    {
     "name": "stderr",
     "output_type": "stream",
     "text": [
      "IMAGEIO FFMPEG_WRITER WARNING: input image is not divisible by macro_block_size=16, resizing from (84, 84) to (96, 96) to ensure video compatibility with most codecs and players. To prevent resizing, make your input image divisible by the macro_block_size or set the macro_block_size to 1 (risking incompatibility).\n"
     ]
    },
    {
     "name": "stdout",
     "output_type": "stream",
     "text": [
      "(1134, 84, 84, 3)\n"
     ]
    },
    {
     "name": "stderr",
     "output_type": "stream",
     "text": [
      "[swscaler @ 0x55fb3e1a0fc0] Warning: data is not aligned! This can lead to a speed loss\n"
     ]
    }
   ],
   "source": [
    "'''TEST THE NEW DATASET'''\n",
    "data = pickandplace\n",
    "video_path = '/proj/vondrick3/sruthi/robots/mimicgen_environments/datasets/temp.mp4'\n",
    "video_writer = imageio.get_writer(video_path, fps=20)\n",
    "idx = 0\n",
    "demo = 'demo_1'\n",
    "print(data['data'][demo]['obs']['agentview_image'].shape)\n",
    "for b in  data['data'][demo]['obs']['agentview_image']:\n",
    "    img = Image.fromarray((b).astype(np.uint8))\n",
    "    d = ImageDraw.Draw(img)\n",
    "    d.text( (2,2), str(idx), fill=255)\n",
    "    \n",
    "    #-- back to array\n",
    "    b = np.asarray(img)\n",
    "\n",
    "    video_writer.append_data(b)\n",
    "    idx+=1\n",
    "video_writer.close()\n",
    "Video(video_path, embed=True)\n",
    "data.close()"
   ]
  },
  {
   "cell_type": "code",
   "execution_count": 102,
   "id": "544192d8-25cd-487f-a4dd-ab57bd66218b",
   "metadata": {},
   "outputs": [
    {
     "name": "stderr",
     "output_type": "stream",
     "text": [
      "IMAGEIO FFMPEG_WRITER WARNING: input image is not divisible by macro_block_size=16, resizing from (84, 84) to (96, 96) to ensure video compatibility with most codecs and players. To prevent resizing, make your input image divisible by the macro_block_size or set the macro_block_size to 1 (risking incompatibility).\n"
     ]
    },
    {
     "name": "stdout",
     "output_type": "stream",
     "text": [
      "<HDF5 file \"pick_place_d0.hdf5\" (mode r)>\n"
     ]
    },
    {
     "name": "stderr",
     "output_type": "stream",
     "text": [
      "[swscaler @ 0x55e340f49fc0] Warning: data is not aligned! This can lead to a speed loss\n"
     ]
    }
   ],
   "source": [
    "'''TEST THE NEW DATASET'''\n",
    "data = h5py.File('/proj/vondrick3/sruthi/robots/mimicgen_environments/datasets/large_interpolation/pick_place_d0.hdf5')\n",
    "video_path = '/proj/vondrick3/sruthi/robots/mimicgen_environments/datasets/temp.mp4'\n",
    "video_writer = imageio.get_writer(video_path, fps=20)\n",
    "idx = 0\n",
    "print(data)\n",
    "for demo in data['data']:\n",
    "    b = data['data'][demo]['obs']['agentview_image'][0]\n",
    "    img = Image.fromarray((b).astype(np.uint8))\n",
    "    d = ImageDraw.Draw(img)\n",
    "    d.text( (2,2), str(idx), fill=255)\n",
    "    \n",
    "    #-- back to array\n",
    "    b = np.asarray(img)\n",
    "\n",
    "    video_writer.append_data(b)\n",
    "    idx+=1\n",
    "video_writer.close()\n",
    "Video(video_path, embed=True)\n",
    "data.close()"
   ]
  }
 ],
 "metadata": {
  "kernelspec": {
   "display_name": "Python 3 (ipykernel)",
   "language": "python",
   "name": "python3"
  },
  "language_info": {
   "codemirror_mode": {
    "name": "ipython",
    "version": 3
   },
   "file_extension": ".py",
   "mimetype": "text/x-python",
   "name": "python",
   "nbconvert_exporter": "python",
   "pygments_lexer": "ipython3",
   "version": "3.9.18"
  }
 },
 "nbformat": 4,
 "nbformat_minor": 5
}
